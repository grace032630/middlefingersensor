{
 "cells": [
  {
   "cell_type": "code",
   "execution_count": 1,
   "metadata": {},
   "outputs": [
    {
     "name": "stderr",
     "output_type": "stream",
     "text": [
      "D:\\Anaconda\\envs\\gpu\\lib\\site-packages\\numpy\\_distributor_init.py:32: UserWarning: loaded more than 1 DLL from .libs:\n",
      "D:\\Anaconda\\envs\\gpu\\lib\\site-packages\\numpy\\.libs\\libopenblas.4SP5SUA7CBGXUEOC35YP2ASOICYYEQZZ.gfortran-win_amd64.dll\n",
      "D:\\Anaconda\\envs\\gpu\\lib\\site-packages\\numpy\\.libs\\libopenblas.PYQHXLVVQ7VESDPUVUADXEVJOBGHJPAY.gfortran-win_amd64.dll\n",
      "D:\\Anaconda\\envs\\gpu\\lib\\site-packages\\numpy\\.libs\\libopenblas.XWYDX2IKJW2NMTWSFYNGFUWKQU3LYTCZ.gfortran-win_amd64.dll\n",
      "  stacklevel=1)\n"
     ]
    }
   ],
   "source": [
    "import cv2 "
   ]
  },
  {
   "cell_type": "code",
   "execution_count": 2,
   "metadata": {},
   "outputs": [],
   "source": [
    "import mediapipe as mp\n",
    "#引入time的模組\n",
    "import time"
   ]
  },
  {
   "cell_type": "code",
   "execution_count": 3,
   "metadata": {},
   "outputs": [],
   "source": [
    "# 開啟網路攝影機\n",
    "cap = cv2.VideoCapture(0)"
   ]
  },
  {
   "cell_type": "code",
   "execution_count": 4,
   "metadata": {},
   "outputs": [],
   "source": [
    "mpHands=mp.solutions.hands\n",
    "hands=mpHands.Hands() #用預設值,詳細裡面的參數可以去查\n",
    "#畫座標到手上\n",
    "mpDraw=mp.solutions.drawing_utils\n",
    "#設定線的顏色粗度半徑\n",
    "handLmsStyle=mpDraw.DrawingSpec(color=(0,0,255),thickness=5)\n",
    "handConStyle=mpDraw.DrawingSpec(color=(0,255,0),thickness=5)\n",
    "pTime=0\n",
    "cTime=0"
   ]
  },
  {
   "cell_type": "code",
   "execution_count": 5,
   "metadata": {},
   "outputs": [],
   "source": [
    "while True:\n",
    "    ret,img=cap.read()\n",
    "    if ret:\n",
    "        #讀取到的都是bgr要轉rgb\n",
    "        imgRGB=cv2.cvtColor(img,cv2.COLOR_BGR2RGB)\n",
    "        result=hands.process(imgRGB)\n",
    "        #回傳偵測到的手的座標\n",
    "        #print(result.multi_hand_landmarks)\n",
    "        imgHeight=img.shape[0]\n",
    "        imgWidth=img.shape[1]\n",
    "        if result.multi_hand_landmarks:\n",
    "            for handLms in result.multi_hand_landmarks:\n",
    "                mpDraw.draw_landmarks(img,handLms,mpHands.HAND_CONNECTIONS,handLmsStyle,handConStyle) #參數1畫在哪張圖上,參數2把點傳進來,參數3把點連起來的線,4/5點的樣式與線的樣式                \n",
    "                \n",
    "                pointy=[]\n",
    "                for j in range(21):\n",
    "                    pointy.append(handLms.landmark[j].y)\n",
    "                a=0\n",
    "                for k in range(10):\n",
    "                    if pointy[k]>pointy[10]:\n",
    "                        a+=1\n",
    "                        if a==9:\n",
    "                            cv2.putText(img,f\"dumb dumb\",(60,100),cv2.FONT_HERSHEY_SIMPLEX,2,(0,0,255),3) \n",
    "            #21個點的座標印出來\n",
    "            #i:第幾個點,lm座標\n",
    "                for i,lm in enumerate(handLms.landmark):\n",
    "                    #畫第幾個點上去,puttext畫上文字\n",
    "                    xPos=int(lm.x*imgWidth)\n",
    "                    yPos=int(lm.y*imgHeight)\n",
    "                    cv2.putText(img,str(i),(xPos-25,yPos+5),cv2.FONT_HERSHEY_SIMPLEX,0.4,(0,0,255),2) \n",
    "        cTime=time.time()\n",
    "        fps=1/(cTime-pTime) #每秒振數\n",
    "        pTime=cTime\n",
    "        cv2.putText(img,f\"FPS:{int(fps)}\",(30,50),cv2.FONT_HERSHEY_SIMPLEX,1,(255,0,0),3)\n",
    "        cv2.imshow('img',img) #輸出到畫面\n",
    "    #如果按下ESC键，就退出\n",
    "    if cv2.waitKey( 10) == 27:\n",
    "        break\n",
    "#釋放記憶體\n",
    "cap.release()\n",
    "#關閉所有視窗\n",
    "cv2.destroyAllWindows()"
   ]
  },
  {
   "cell_type": "code",
   "execution_count": null,
   "metadata": {},
   "outputs": [],
   "source": []
  }
 ],
 "metadata": {
  "kernelspec": {
   "display_name": "Python 3 (ipykernel)",
   "language": "python",
   "name": "python3"
  },
  "language_info": {
   "codemirror_mode": {
    "name": "ipython",
    "version": 3
   },
   "file_extension": ".py",
   "mimetype": "text/x-python",
   "name": "python",
   "nbconvert_exporter": "python",
   "pygments_lexer": "ipython3",
   "version": "3.7.11"
  }
 },
 "nbformat": 4,
 "nbformat_minor": 2
}
